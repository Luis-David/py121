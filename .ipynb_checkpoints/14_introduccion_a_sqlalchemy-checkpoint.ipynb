{
 "cells": [
  {
   "cell_type": "markdown",
   "metadata": {},
   "source": [
    "[![imagenes/pythonista.png](imagenes/pythonista.png)](https://pythonista.io)"
   ]
  },
  {
   "cell_type": "markdown",
   "metadata": {},
   "source": [
    "## La biblioteca *SQLAlchemy*.\n",
    "\n",
    "[*SQLAlchemy*](http://www.sqlalchemy.org/) comprende diversas herramientas enfocadas a interactuar con bases de datos relacionales de forma \"pythonica\".\n",
    "\n",
    "Consta de:\n",
    "* **SQLAlchemy Core**, la cual permite crear una interfaz genérica e independiente del gestor de base de datos por medio de un lenguaje  de expresiones basado en SQL.\n",
    "* **SQLAlchemy ORM** Mapeador entre objetos y transacciones relacionales u ORM (por las sigas de object-relational mapper).\n",
    "\n",
    "Conocer a profundidad la biblioteca de SQLAlchemy podría extenderse por varios capítulos, por lo que para fines de este curso, solo se explorarán superficialmente el ORM de SQLAlchemy y la extensión de Jupyter del lenguaje de expresiones de SQLAlchemy ([*ipython-sql*](https://github.com/catherinedevlin/ipython-sql)), la cual aprovecha las funcionalidades de SQLAlchemy Core. "
   ]
  },
  {
   "cell_type": "code",
   "execution_count": null,
   "metadata": {},
   "outputs": [],
   "source": [
    "!pip install sqlalchemy"
   ]
  },
  {
   "cell_type": "code",
   "execution_count": null,
   "metadata": {},
   "outputs": [],
   "source": [
    "import sqlalchemy"
   ]
  },
  {
   "cell_type": "markdown",
   "metadata": {},
   "source": [
    "#### Ruta de conexión a un gestor de la base de datos.\n",
    "\n",
    "El primer paso para poder interactuar con una base de datos es conectándose a esta. Para ello es necesario conocer la ruta y contar con las credenciales (generalmente usuario y contraseña) para poder acceder.\n",
    "\n",
    "La sintaxis de la ruta de conexión a una base de datos utiliza la siguiente sintaxis.\n",
    "\n",
    "```\n",
    "<<dialecto><controlador>://<usuario>:<contraseña>@<ruta del servidor>:<puerto>/<base de datos>\n",
    "```"
   ]
  },
  {
   "cell_type": "markdown",
   "metadata": {},
   "source": [
    "<p style=\"text-align: center\"><a rel=\"license\" href=\"http://creativecommons.org/licenses/by/4.0/\"><img alt=\"Licencia Creative Commons\" style=\"border-width:0\" src=\"https://i.creativecommons.org/l/by/4.0/80x15.png\" /></a><br />Esta obra está bajo una <a rel=\"license\" href=\"http://creativecommons.org/licenses/by/4.0/\">Licencia Creative Commons Atribución 4.0 Internacional</a>.</p>\n",
    "<p style=\"text-align: center\">&copy; José Luis Chiquete Valdivieso. 2018.</p>"
   ]
  }
 ],
 "metadata": {
  "kernelspec": {
   "display_name": "Python 3",
   "language": "python",
   "name": "python3"
  },
  "language_info": {
   "codemirror_mode": {
    "name": "ipython",
    "version": 3
   },
   "file_extension": ".py",
   "mimetype": "text/x-python",
   "name": "python",
   "nbconvert_exporter": "python",
   "pygments_lexer": "ipython3",
   "version": "3.6.3"
  }
 },
 "nbformat": 4,
 "nbformat_minor": 2
}
