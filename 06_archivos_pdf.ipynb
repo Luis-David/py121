{
 "cells": [
  {
   "cell_type": "markdown",
   "metadata": {},
   "source": [
    "[![imagenes/pythonista.png](imagenes/pythonista.png)](https://pythonista.io)"
   ]
  },
  {
   "cell_type": "markdown",
   "metadata": {},
   "source": [
    "El formato PDF es un [estándar internacional](https://www.iso.org/standard/51502.html) para la creación de documentos que pueden ser desplegados o impresos de forma idéntica independientemente del dispositivo o aplicación que acceda a dichos documentos.\n",
    "\n",
    "El énfasis del formato PDF reside en la correcta legibilidad de la información para los seres humanos, poniendo en segundo término la estructura y orden de la información que contiene.\n"
   ]
  },
  {
   "cell_type": "markdown",
   "metadata": {},
   "source": [
    "## Creación de documentos PDF a partir de código HTML.\n",
    "\n",
    "### La herramienta *wkhtmltopdf*.\n",
    "\n",
    "El proyecto https://wkhtmltopdf.org/ ofrece una herramienta capaz de transformar código HTML en documentos PDF. Dicha herramienta se ejecuta directamente como un comando del sistema con la sintaxis.\n",
    "\n",
    "```\n",
    "wkhtmltopdf <archivo HTML de origen> <archivo PDF resultante> <parámetros>\n",
    "```"
   ]
  },
  {
   "cell_type": "markdown",
   "metadata": {},
   "source": [
    "### Restricciones. \n",
    "\n",
    "El paquete *wkhtmltopdf* requiere del uso de un servidor X y la biblioteca Qt. En el caso de las instalaciones en sistemas Windows, los binarios incluyen lo necesario para poder ejecutar la herramienta desde una terminal. Del mismo modo, los sistemas de escritorio de Linux también cuentan con un entrono gráfico gestionado por un servidor X. Sin embargo, es muy común que un servidor Linux no cuente con un servidor X instalado.\n",
    "\n",
    "Para que *pdfkit* pueda funcionar, es necesario que *wkhtmltopdf* se encuentre en una ruta conocida, por lo que en el caso de Windows, es necesario añadir esta ruta a la variable de entorno *PATH*."
   ]
  },
  {
   "cell_type": "markdown",
   "metadata": {},
   "source": [
    "## Instalación de *wkhtmltopdf* junto con un servidor virtual de X en CentOS 7.\n",
    "\n",
    "La máquina virtual que fue descargada del sitio http://pythonista.io no cuenta con un servidor X, por lo que es necesario instalarlo al igual que el paquete *wkhtmltopdf*.\n",
    "\n",
    "**Nota:**\n",
    "Este ejercicio representa el caso menos favorable. Si se utiliza esta herramienta desde un sistema Windows o desde un entorno gráfico en Linux, el uso de esta herramienta es mucho más simple."
   ]
  },
  {
   "cell_type": "markdown",
   "metadata": {},
   "source": [
    "### Instalación y configuración del servidor X virtual.\n",
    "El servidor X virtual o *xvfb* por las siglas en inglés de \"X Virtual FrameBuffer\" es una variante de un servidor X que realiza las mismas opraciones que uno convencional, pero no se despliega en pantalla. Se utiliza para realizar opraciones que requieren de un entrono gráfico en un sistema GNU/Linux."
   ]
  },
  {
   "cell_type": "markdown",
   "metadata": {},
   "source": [
    "#### Instalación del paquete.\n",
    "\n",
    "En este caso se utilizará el gestor de paquetes, *yum*."
   ]
  },
  {
   "cell_type": "code",
   "execution_count": null,
   "metadata": {
    "scrolled": false
   },
   "outputs": [],
   "source": [
    "!sudo yum install xorg-x11-server-Xvfb -y"
   ]
  },
  {
   "cell_type": "markdown",
   "metadata": {},
   "source": [
    "#### Creación del archivo de definición de servicio.\n",
    "Una vez instalado, se define el servicio añadiendo como superusuario el archivo [*xvfb.service*](/src/xvfb.service) en */etc/systemd/system/* con el siguiente código:\n",
    "\n",
    "``` bash\n",
    "[Unit]\n",
    "Description=Virtual Frame Buffer X Server\n",
    "After=network.target\n",
    "\n",
    "[Service]\n",
    "ExecStart=/usr/bin/Xvfb :42 -screen 0 1024x768x24 -ac +extension GLX +render -noreset\n",
    "\n",
    "[Install]\n",
    "WantedBy=multi-user.target\n",
    "```"
   ]
  },
  {
   "cell_type": "code",
   "execution_count": null,
   "metadata": {
    "scrolled": false
   },
   "outputs": [],
   "source": [
    "!sudo cp src/xvfb.service /etc/systemd/system/"
   ]
  },
  {
   "cell_type": "markdown",
   "metadata": {},
   "source": [
    "#### Habilitación y puesta en marcha del servicio.\n",
    "CentOS 7 utiliza el comando *systemctl* para gestionar servicios."
   ]
  },
  {
   "cell_type": "code",
   "execution_count": null,
   "metadata": {
    "scrolled": false
   },
   "outputs": [],
   "source": [
    "!sudo systemctl enable xvfb"
   ]
  },
  {
   "cell_type": "code",
   "execution_count": null,
   "metadata": {
    "scrolled": false
   },
   "outputs": [],
   "source": [
    "!sudo systemctl start xvfb"
   ]
  },
  {
   "cell_type": "markdown",
   "metadata": {},
   "source": [
    "Para comprobar que el servidor está corriendo ejecute lo siguiiente:"
   ]
  },
  {
   "cell_type": "code",
   "execution_count": null,
   "metadata": {
    "scrolled": false
   },
   "outputs": [],
   "source": [
    "!sudo systemctl status xvfb"
   ]
  },
  {
   "cell_type": "markdown",
   "metadata": {},
   "source": [
    "**Nota:** Este procedimiento sólo se requiere hace una vez. Una vez instalado, configurado y habilitado, el servicio iniciará junto con el servidor."
   ]
  },
  {
   "cell_type": "markdown",
   "metadata": {},
   "source": [
    "### Instalación y configuración de *wkhtmltopdf*.\n",
    "\n",
    "#### Instalación del paquete con *yum*."
   ]
  },
  {
   "cell_type": "code",
   "execution_count": null,
   "metadata": {
    "scrolled": false
   },
   "outputs": [],
   "source": [
    "!sudo yum install wkhtmltopdf -y"
   ]
  },
  {
   "cell_type": "markdown",
   "metadata": {},
   "source": [
    "#### Creación de un script que permita acceder al servidor virtual.\n",
    "\n",
    "Es necesario que wkthmltopdf pueda acceder al servidor virtual, por lo que se debe de crear un script que incluya al comando *xvfb-run* el cual le indica al sistema que la instrucción hará uso de un servidor X virtual.\n",
    "\n",
    "El script [src/wkhtmltopdf.sh](src/wkhtmltopdf.sh) contiene el siguiente código:\n",
    "\n",
    "``` bash\n",
    "#!/bin/bash\n",
    "xvfb-run -a --server-args=\"-screen 0, 1280x800x24\" /bin/wkhtmltopdf -q $*\n",
    "```"
   ]
  },
  {
   "cell_type": "markdown",
   "metadata": {},
   "source": [
    "El script en cuestión debe de contar con permisos de ejecución, lo cual se realzia con el siguiente comando. "
   ]
  },
  {
   "cell_type": "code",
   "execution_count": null,
   "metadata": {
    "scrolled": false
   },
   "outputs": [],
   "source": [
    "!chmod +x src/wkhtmltopdf.sh"
   ]
  },
  {
   "cell_type": "markdown",
   "metadata": {},
   "source": [
    "#### Ejecución del script.\n",
    "\n",
    "**Nota:** Este es un ejemplo de ejecución en la línea de comandos. No es código en Python. \n",
    "\n",
    "La siguiente celda ejecutará el script [src/wkhtmltopdf.sh]([src/wkhtmltopdf.sh]) \n",
    "* Se coenctará a http://google/com'.\n",
    "* El contenido será convertido a PDF y guarado en [google.pdf](google.pdf)."
   ]
  },
  {
   "cell_type": "code",
   "execution_count": null,
   "metadata": {
    "scrolled": false
   },
   "outputs": [],
   "source": [
    "!src/wkhtmltopdf.sh http://google.com google.pdf"
   ]
  },
  {
   "cell_type": "markdown",
   "metadata": {},
   "source": [
    "## El paquete *pdfkit*.\n",
    "\n",
    "El paquete [*pfdkit*](https://pypi.org/project/pdfkit/#description) es una implementación de *wkhtmltopdf* para Python."
   ]
  },
  {
   "cell_type": "code",
   "execution_count": null,
   "metadata": {
    "scrolled": false
   },
   "outputs": [],
   "source": [
    "!pip install pdfkit"
   ]
  },
  {
   "cell_type": "code",
   "execution_count": null,
   "metadata": {
    "scrolled": false
   },
   "outputs": [],
   "source": [
    "import pdfkit"
   ]
  },
  {
   "cell_type": "markdown",
   "metadata": {},
   "source": [
    "### Funciones de *pdfkit* dependiendo la fuente de los datos.\n",
    "\n",
    "Es posible tranformar documentos HTML desde diversas fuentes.\n",
    "\n",
    "#### Si el código HTML es ingresado como una cadena de caracteres se utiliza la función *pdfkit.fromstring()* con la siguiente  sintaxis:\n",
    "```\n",
    "pdfkit.fromstring(<objeto tipo str>, '<ruta del archivo resultante>', <argumentos>)\n",
    "```\n",
    "\n",
    "#### Si el código HTML proviene de un archivo local, se utiliza la función *pdfkit.fromfile()* con la siguiente  sintaxis:\n",
    "```\n",
    "pdfkit.fromfile('<ruta>', '<ruta del archivo resultante>', <argumentos>)\n",
    "```\n",
    "\n",
    "#### Si el código HTML proviene de un recurso en línea, se utiliza la función *pdfkit.fromulr()* con la siguiente  sintaxis:\n",
    "```\n",
    "pdfkit.fromfile('<URL>', '<ruta del archivo resultante>', <argumentos>)\n",
    "```"
   ]
  },
  {
   "cell_type": "markdown",
   "metadata": {},
   "source": [
    "### El objeto *pdfkit.configuration*.\n",
    "Para poder utilizar *pdfkit* es necesario que *wkhtmltopdf* esté instalado y que la ruta donde se encuentra el ejecutable sea conocida.\n",
    "\n",
    "El objeto *pdfkit.configuration* permite ingresar diversos parámetros de configuración y en este caso se puede indicar dónde se encuentra el archivo ejecutable de *wkhtmltopdf* con la siguiente sintaxis:\n",
    "\n",
    "```python\n",
    "pdfkit.configuration(wkhtmltopdf='<ruta>')\n",
    "```\n",
    "En caso de que el ejecutable de *wkhtmltopdf* sea accesible desde el sistema, no es necesario utilizar este objeto."
   ]
  },
  {
   "cell_type": "markdown",
   "metadata": {},
   "source": [
    "**Ejemplo:** \n",
    "\n",
    "En este caso, el ejecutable que utilizará *pdfkit* corresponde al script localizado en [src/wkhtmltopdf.sh](src/wkhtmltopdf.sh)"
   ]
  },
  {
   "cell_type": "code",
   "execution_count": null,
   "metadata": {
    "scrolled": false
   },
   "outputs": [],
   "source": [
    "conf = pdfkit.configuration(wkhtmltopdf='src/wkhtmltopdf.sh')"
   ]
  },
  {
   "cell_type": "markdown",
   "metadata": {},
   "source": [
    "**Ejemplos:**\n",
    "\n",
    "Se convertirán archivos HTML localizados en archivos locales y en línea mediante *pdfkit*."
   ]
  },
  {
   "cell_type": "markdown",
   "metadata": {},
   "source": [
    "En este caso se convertirá el contenido de [html/menu.html](html/menu.html) y se guardará en [menu.pdf](menu.pdf)."
   ]
  },
  {
   "cell_type": "code",
   "execution_count": null,
   "metadata": {
    "scrolled": true
   },
   "outputs": [],
   "source": [
    "pdfkit.from_file('html/menu.html', 'menu.pdf', configuration=conf)"
   ]
  },
  {
   "cell_type": "markdown",
   "metadata": {},
   "source": [
    "En este caso se convertirá el contenido de https://pythonista.io/cursos/py101/ciclos-con-while-e-interrupciones-de-flujo y se guardará en [ciclos.pdf](ciclos.pdf)."
   ]
  },
  {
   "cell_type": "code",
   "execution_count": null,
   "metadata": {
    "scrolled": false
   },
   "outputs": [],
   "source": [
    "pdfkit.from_url('https://pythonista.io/cursos/py101/ciclos-con-while-e-interrupciones-de-flujo',\n",
    "                'ciclos.pdf', configuration=conf)"
   ]
  },
  {
   "cell_type": "markdown",
   "metadata": {},
   "source": [
    "### El parámetro *options*.\n",
    "\n",
    "Es posible modificar el tipo y orientación de la página, el tamaño de los márgenes y algunas otras características del documento PDF resultante mediante algunas opciones de *wkhtmltopdf, l;as cuales pueden ser consultadas en https://github.com/worlduniting/bookshop/wiki/wkhtmltopdf-options\n",
    "\n",
    "En el caso de *pdfkit* estas opciones deben de estar contenidas en un objeto tipo *dict*."
   ]
  },
  {
   "cell_type": "markdown",
   "metadata": {},
   "source": [
    "**Ejemplo:**\n",
    "\n",
    "Se creará nuevamente el archivo [menu.pdf](menu.pdf) con algunos ajustgeas a los márgenes e indicando el tipo de tamano de papel."
   ]
  },
  {
   "cell_type": "code",
   "execution_count": null,
   "metadata": {
    "scrolled": true
   },
   "outputs": [],
   "source": [
    "options = {\n",
    "    'page-size': 'Letter',\n",
    "    'margin-top': '0.75in',\n",
    "    'margin-right': '0.75in',\n",
    "    'margin-bottom': '0.75in',\n",
    "    'margin-left': '0.75in',\n",
    "    'encoding': \"UTF-8\"\n",
    "}"
   ]
  },
  {
   "cell_type": "code",
   "execution_count": null,
   "metadata": {
    "scrolled": true
   },
   "outputs": [],
   "source": [
    "pdfkit.from_file('html/menu.html', 'menu.pdf', configuration=conf, options=options)"
   ]
  },
  {
   "cell_type": "markdown",
   "metadata": {},
   "source": [
    "## Lectura de archivos PDF.\n",
    "\n",
    "La extracción de datos a partir de archivos PDF no es simple y en muchos casos tampoco es infalible. Es por ello por lo que se detallará el uso de.\n",
    "\n",
    "* [*pdfminer.six*](https://github.com/pdfminer/pdfminer.six).\n",
    "* [*pdftotext*](https://github.com/jalan/pdftotext).\n",
    "* [*PyPDF2*]"
   ]
  },
  {
   "cell_type": "markdown",
   "metadata": {},
   "source": [
    "## El paquete *pdfminer.six*.\n",
    "\n",
    "El paquete *pdfminer.six* es una implementación compatible con Python 3 de *pdfminer*. Es una herramienta especializada para la extracción de texto muy popular.\n",
    "\n",
    "Utiliza la clase io.StringIO para cargar flujos de texto, lo que permite cargar en la memoria exclusivamente las páginas que se seleccionen, optimizando el usos de recursos.\n",
    "\n",
    "Para mayor información consultar https://media.readthedocs.org/pdf/pdfminer-docs/latest/pdfminer-docs.pdf."
   ]
  },
  {
   "cell_type": "code",
   "execution_count": null,
   "metadata": {},
   "outputs": [],
   "source": [
    "! pip install pdfminer.six"
   ]
  },
  {
   "cell_type": "code",
   "execution_count": 2,
   "metadata": {},
   "outputs": [],
   "source": [
    "    from io import StringIO\n",
    "    from pdfminer.pdfinterp import PDFResourceManager, PDFPageInterpreter\n",
    "    from pdfminer.converter import TextConverter\n",
    "    from pdfminer.layout import LAParams\n",
    "    from pdfminer.pdfpage import PDFPage\n",
    "\n",
    "    def convert(fname, pages=None):\n",
    "        if not pages:\n",
    "            pagenums = set()\n",
    "        else:\n",
    "            pagenums = set(pages)\n",
    "\n",
    "        output = StringIO()\n",
    "        manager = PDFResourceManager()\n",
    "        converter = TextConverter(manager, output, laparams=LAParams())\n",
    "        interpreter = PDFPageInterpreter(manager, converter)\n",
    "\n",
    "        infile = open(fname, 'rb')\n",
    "        for page in PDFPage.get_pages(infile, pagenums):\n",
    "            interpreter.process_page(page)\n",
    "        infile.close()\n",
    "        converter.close()\n",
    "        text = output.getvalue()\n",
    "        output.close\n",
    "        return text "
   ]
  },
  {
   "cell_type": "code",
   "execution_count": 1,
   "metadata": {},
   "outputs": [
    {
     "ename": "NameError",
     "evalue": "name 'convert' is not defined",
     "output_type": "error",
     "traceback": [
      "\u001b[0;31m---------------------------------------------------------------------------\u001b[0m",
      "\u001b[0;31mNameError\u001b[0m                                 Traceback (most recent call last)",
      "\u001b[0;32m<ipython-input-1-d39aeeefc869>\u001b[0m in \u001b[0;36m<module>\u001b[0;34m()\u001b[0m\n\u001b[0;32m----> 1\u001b[0;31m \u001b[0mconvert\u001b[0m\u001b[0;34m(\u001b[0m\u001b[0;34m'menu.pdf'\u001b[0m\u001b[0;34m,\u001b[0m \u001b[0mpages\u001b[0m\u001b[0;34m=\u001b[0m\u001b[0;34m[\u001b[0m\u001b[0;36m1\u001b[0m\u001b[0;34m]\u001b[0m\u001b[0;34m)\u001b[0m\u001b[0;34m\u001b[0m\u001b[0m\n\u001b[0m",
      "\u001b[0;31mNameError\u001b[0m: name 'convert' is not defined"
     ]
    }
   ],
   "source": [
    "convert('menu.pdf', pages=[1])"
   ]
  },
  {
   "cell_type": "markdown",
   "metadata": {},
   "source": [
    "### El paquete *pdftotext*.\n",
    "\n",
    "Es una implementación de [*poppler*](https://poppler.freedesktop.org/), Corre en Linux, UNIX y MacOS X."
   ]
  },
  {
   "cell_type": "code",
   "execution_count": 8,
   "metadata": {},
   "outputs": [
    {
     "name": "stdout",
     "output_type": "stream",
     "text": [
      "Loaded plugins: fastestmirror\n",
      "Loading mirror speeds from cached hostfile\n",
      " * base: mirror.cenac.ipn.mx\n",
      " * epel: mirrors.develooper.com\n",
      " * extras: mirror.cenac.ipn.mx\n",
      " * updates: mirror.cenac.ipn.mx\n",
      "Package poppler-cpp-devel-0.26.5-17.el7_4.x86_64 already installed and latest version\n",
      "Nothing to do\n"
     ]
    }
   ],
   "source": [
    "!sudo yum install poppler-cpp-devel -y"
   ]
  },
  {
   "cell_type": "code",
   "execution_count": 9,
   "metadata": {
    "scrolled": true
   },
   "outputs": [
    {
     "name": "stdout",
     "output_type": "stream",
     "text": [
      "Requirement already satisfied: pdftotext in /home/oi/pythonista/lib/python3.6/site-packages (2.0.2)\r\n"
     ]
    }
   ],
   "source": [
    "!pip install pdftotext"
   ]
  },
  {
   "cell_type": "code",
   "execution_count": 10,
   "metadata": {},
   "outputs": [],
   "source": [
    "import pdftotext"
   ]
  },
  {
   "cell_type": "code",
   "execution_count": 12,
   "metadata": {},
   "outputs": [],
   "source": [
    "with open(\"menu.pdf\", \"rb\") as archivo:\n",
    "    pdf = pdftotext.PDF(archivo)"
   ]
  },
  {
   "cell_type": "code",
   "execution_count": 13,
   "metadata": {},
   "outputs": [
    {
     "data": {
      "text/plain": [
       "pdftotext.PDF"
      ]
     },
     "execution_count": 13,
     "metadata": {},
     "output_type": "execute_result"
    }
   ],
   "source": [
    "type(pdf)"
   ]
  },
  {
   "cell_type": "code",
   "execution_count": 14,
   "metadata": {},
   "outputs": [
    {
     "name": "stdout",
     "output_type": "stream",
     "text": [
      "                            Restaurante-Bar\n",
      "                  \"La Fonda de la Marquesa\"\n",
      "            El lugar de los amigos y cómplices desde 1987.\n",
      "                           Inicio    Menú      Equipo\n",
      "                       Nuestro Menú\n",
      "                              Entradas\n",
      "Ensalada mixta\n",
      "    Preparada con varios tipos de lechuga, cebolla, jitomate  $65.00\n",
      "    y aderezo de la casa.\n",
      "Corazones de alcachofa al vapor\n",
      "                                                             $125.00\n",
      "    Servidos en un espejo de vinagreta.\n",
      "Empanadas argentinas (3)\n",
      "    Nuestras tradicionales empanadas rellenas de carne,      $130.00\n",
      "    queso o chistorra a escoger.\n",
      "Sashimi de pepino\n",
      "    Una fresca opción con nuestros cortes extra finos y la   $150.00\n",
      "    delicadeza de la salsa de soya.\n",
      "                                 Sopas\n",
      "Consomé de la Condesa\n",
      "                                                              $85.00\n",
      "    Nuestra sazón especial para un platillo muy tradicional.\n",
      "Jugo de carne\n",
      "                                                              $85.00\n",
      "    Hecho con la más fina carne de Sonora.\n",
      "Sopa de lentejas\n",
      "                                                              $90.00\n",
      "    Con plátano macho y tocino.\n",
      "Sopa de fideos\n",
      "    Guisado con nuestro consomé especial y con un toque      $105.00\n",
      "    de crema y queso fresco.\n",
      "                          Platos fuertes\n",
      "\n",
      "Pechuga en salsa de huitlacoche\n",
      "    Un sabor tan delicado que no podrá evitar pedirnos la                                            $145.00\n",
      "    receta.\n",
      "Nuestras gringas muy mexicanas\n",
      "    Pavo al pastor sobre tortillas de harina hechas a mano y                                        $100.00\n",
      "    queso menonita. Insuperable.\n",
      "Pepitos de arrachera\n",
      "    Una explosión de sabores con nuestros finos cortes\n",
      "                                                                                                    $160.00\n",
      "    seleccionados y macerados\n",
      "    por nuestro chef, y servidos en pan de nuestro horno.\n",
      "Huachinango a la sal\n",
      "    Nuestro pescado es traído diariamente desde Veracruz                                            $220.00\n",
      "    hasta su mesa.\n",
      "                                            Postres\n",
      "Pan de pulque\n",
      "    Nuestro famoso pan de pulque hecho con el néctar\n",
      "                                                                                                      $95.00\n",
      "    traído de Hidalgo.\n",
      "    No olvide pedir para llevar.\n",
      "Nieve de leche quemada con tuna\n",
      "    Disfrute este tradicional postre oaxaqueño servido con\n",
      "                                                                                                      $65.00\n",
      "    las soletas preparadas\n",
      "    por nosotros.\n",
      "Sorbete de rosas y vino blanco espumoso\n",
      "                                                                                                      $85.00\n",
      "    Nuestro postre más delicado, para paladares exigentes.\n",
      "Crepas al momento\n",
      "    Permítanos preparar su crepa frente a usted para que\n",
      "                                                                                                     $115.00\n",
      "    selecciones de entre nuestra gran\n",
      "    variedad de mermeladas y compotas caseras.\n",
      "            Calle Mar del Oro No. 18, Col. San Jacinto el Bajo, Coyoacán, C.P. 100003, México, D.F.\n",
      "                                       Reservaciones al (55) 1161-11345\n",
      "                            Contáctenos por nuestro correo electrónico.\n",
      "\n"
     ]
    }
   ],
   "source": [
    "for page in pdf:\n",
    "    print(page)"
   ]
  },
  {
   "cell_type": "markdown",
   "metadata": {},
   "source": [
    "### El paquete *PyPDF2*.\n",
    "\n",
    "Existen diversos proyectos enfocados a la gestión de archivos en formato PDF. El paquete *PyPDF2* permite no sólo leer sino escribir, concatenar y modificar archivos PDF. \n",
    "\n",
    "Para los fines de esta sección sólo se utilizará la clase *PyPDF2.PdfFileReader* para leer el contenido de un archivo PDF.\n",
    "\n",
    "Para saber mas sobre este paquete puede consultar en https://pythonhosted.org/PyPDF2/"
   ]
  },
  {
   "cell_type": "code",
   "execution_count": 15,
   "metadata": {
    "scrolled": false
   },
   "outputs": [
    {
     "name": "stdout",
     "output_type": "stream",
     "text": [
      "Requirement already satisfied: PyPDF2 in /home/oi/pythonista/lib/python3.6/site-packages (1.26.0)\r\n"
     ]
    }
   ],
   "source": [
    "!pip install PyPDF2"
   ]
  },
  {
   "cell_type": "markdown",
   "metadata": {},
   "source": [
    "#### La clase *PyPDF2.PdfFileReader*\n",
    "\n",
    "Esta clase crea un objeto que posee atributos correspontientes a las características, estructuras y contenidos de un archivco PDF. Para crear un objeto a partir de esta clase su tiliza la siguiente sintaxis:\n",
    "\n",
    "```\n",
    "PyPDF2.PdfFileReader('<ruta del archivo>')\n",
    "```\n",
    "Aún cuando el paquete es muy versatil, en muchos casos no es tan eficiente para extraer texto como las herramientas mencionadas anteriormente."
   ]
  },
  {
   "cell_type": "code",
   "execution_count": 16,
   "metadata": {
    "scrolled": true
   },
   "outputs": [],
   "source": [
    "from PyPDF2 import PdfFileReader"
   ]
  },
  {
   "cell_type": "code",
   "execution_count": 17,
   "metadata": {},
   "outputs": [
    {
     "name": "stdout",
     "output_type": "stream",
     "text": [
      "Información del documento: {'/Title': '', '/Creator': 'wkhtmltopdf 0.12.1', '/Producer': 'Qt 4.8.7', '/CreationDate': 'D:20180517202553'}\n",
      "Número de páginas: 2\n",
      "Contenido de la pagina 1:\n",
      " \n"
     ]
    }
   ],
   "source": [
    "with open('menu.pdf', 'rb') as archivo:\n",
    "    pdf = PdfFileReader(archivo)\n",
    "    print('Información del documento:', pdf.documentInfo)\n",
    "    print('Número de páginas:', pdf.numPages)\n",
    "    pagina = pdf.getPage(0)\n",
    "    print('Contenido de la pagina 1:\\n', pagina.extractText())"
   ]
  },
  {
   "cell_type": "markdown",
   "metadata": {},
   "source": [
    "<p style=\"text-align: center\"><a rel=\"license\" href=\"http://creativecommons.org/licenses/by/4.0/\"><img alt=\"Licencia Creative Commons\" style=\"border-width:0\" src=\"https://i.creativecommons.org/l/by/4.0/80x15.png\" /></a><br />Esta obra está bajo una <a rel=\"license\" href=\"http://creativecommons.org/licenses/by/4.0/\">Licencia Creative Commons Atribución 4.0 Internacional</a>.</p>\n",
    "<p style=\"text-align: center\">&copy; José Luis Chiquete Valdivieso. 2018.</p>"
   ]
  }
 ],
 "metadata": {
  "kernelspec": {
   "display_name": "Python 3",
   "language": "python",
   "name": "python3"
  },
  "language_info": {
   "codemirror_mode": {
    "name": "ipython",
    "version": 3
   },
   "file_extension": ".py",
   "mimetype": "text/x-python",
   "name": "python",
   "nbconvert_exporter": "python",
   "pygments_lexer": "ipython3",
   "version": "3.6.3"
  }
 },
 "nbformat": 4,
 "nbformat_minor": 2
}
