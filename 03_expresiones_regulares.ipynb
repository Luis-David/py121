{
 "cells": [
  {
   "cell_type": "markdown",
   "metadata": {},
   "source": [
    "[![imagenes](imagenes/pythonista.png)](https://pythonista.mx)"
   ]
  },
  {
   "cell_type": "markdown",
   "metadata": {},
   "source": [
    "Las expresiones regulares son parte de los lenguajes formales y corresponden a una secuencia de caracteres que definen  un patrón.\n",
    "\n",
    "Mediante el uso de lenguajes formales, es posible buscar patrones dentro de un flujo de texto."
   ]
  },
  {
   "cell_type": "markdown",
   "metadata": {},
   "source": [
    "## Metacaracteres.\n",
    "\n",
    "Python reconoce a los siguientes caracteres como componentes sintácticos de una expresión regular.\n",
    "\n",
    "** . ^ $ * + ? { } [ ] \\ | ( ) **\n",
    "\n",
    "El uso de los metacaracteres se estudiará más adelante."
   ]
  },
  {
   "cell_type": "markdown",
   "metadata": {},
   "source": [
    "## El módulo _re_.\n",
    "\n",
    "Es el módulo que contiene funciones y clases relativas a búsqueda de patrones mediante expresiones regulares."
   ]
  },
  {
   "cell_type": "code",
   "execution_count": 2,
   "metadata": {},
   "outputs": [],
   "source": [
    "import re"
   ]
  },
  {
   "cell_type": "code",
   "execution_count": null,
   "metadata": {},
   "outputs": [],
   "source": [
    "help(re)"
   ]
  },
  {
   "cell_type": "markdown",
   "metadata": {},
   "source": [
    "## Parámetros de búsqueda.\n",
    "\n",
    "* _re.A_ ó _ASCII_\n",
    "* _re.I_ ó _IGNORECASE_\n",
    "* _re.L_ ó _LOCALE_\n",
    "* _re.M_ ó _MULTILINE_\n",
    "* _re.S_ ó _DOTALL_\n",
    "* _re.X_ ó _VERBOSE_\n",
    "* _re.U_ ó _UNICODE_"
   ]
  },
  {
   "cell_type": "markdown",
   "metadata": {},
   "source": [
    "## Funciones del módulo _re_.\n",
    "\n",
    "### La función _re.search()_.\n",
    "\n",
    "Busca un patrón desde el principio de  la cadena de caracteres. Al encontrar la primera conicidencia, regresa un objeto.\n",
    "\n",
    "**Sintaxis:**\n",
    "\n",
    "```\n",
    "re.search(<patrón>, <cadena de caracteres>, <parámetros>)\n",
    "```\n",
    "\n",
    "**Ejemplos:**"
   ]
  },
  {
   "cell_type": "code",
   "execution_count": null,
   "metadata": {},
   "outputs": [],
   "source": [
    "texto = \"Azucar azu azucarado zucarita, asucar azurca azucar\"\n",
    "patron = \"azu\""
   ]
  },
  {
   "cell_type": "code",
   "execution_count": null,
   "metadata": {},
   "outputs": [],
   "source": [
    "re.search(patron, texto)"
   ]
  },
  {
   "cell_type": "code",
   "execution_count": null,
   "metadata": {},
   "outputs": [],
   "source": [
    "busqueda = re.search(patron, texto)"
   ]
  },
  {
   "cell_type": "code",
   "execution_count": null,
   "metadata": {},
   "outputs": [],
   "source": [
    "dir(busqueda)"
   ]
  },
  {
   "cell_type": "code",
   "execution_count": null,
   "metadata": {},
   "outputs": [],
   "source": [
    "busqueda.string"
   ]
  },
  {
   "cell_type": "code",
   "execution_count": null,
   "metadata": {},
   "outputs": [],
   "source": [
    "busqueda.span()"
   ]
  },
  {
   "cell_type": "code",
   "execution_count": null,
   "metadata": {},
   "outputs": [],
   "source": [
    "busqueda.start()"
   ]
  },
  {
   "cell_type": "code",
   "execution_count": null,
   "metadata": {},
   "outputs": [],
   "source": [
    "busqueda.end()"
   ]
  },
  {
   "cell_type": "code",
   "execution_count": null,
   "metadata": {},
   "outputs": [],
   "source": [
    "re.search(patron, texto, re.I)"
   ]
  },
  {
   "cell_type": "markdown",
   "metadata": {},
   "source": [
    "### La función _re.findall()_.\n",
    "Busca todas las coincidencias de un patrón desde el principio de  la cadena de caracteres. Regresa una lista con todas las coincidencias.\n",
    "\n",
    "**Sintaxis:**\n",
    "\n",
    "```\n",
    "re.findall(<patrón>, <cadena de caracteres>, <parámetros>)\n",
    "```\n",
    "\n",
    "**Ejemplos:**"
   ]
  },
  {
   "cell_type": "code",
   "execution_count": null,
   "metadata": {},
   "outputs": [],
   "source": [
    "texto = \"Azucar azu azucarado zucarita, asucar azurca azucar\"\n",
    "patron = \"azu\""
   ]
  },
  {
   "cell_type": "code",
   "execution_count": null,
   "metadata": {},
   "outputs": [],
   "source": [
    "re.findall(patron, texto)"
   ]
  },
  {
   "cell_type": "code",
   "execution_count": null,
   "metadata": {},
   "outputs": [],
   "source": [
    "re.findall(patron, texto, re.I)"
   ]
  },
  {
   "cell_type": "markdown",
   "metadata": {},
   "source": [
    "### La función _re.finditer()_.\n",
    "\n",
    "Busca todas las coincidencias de un patrón desde el principio de  la cadena de caracteres. Regresa un iterador con todas las coincidencias.\n",
    "\n",
    "**Sintaxis:**\n",
    "\n",
    "```\n",
    "re.finditer(<patrón>, <cadena de caracteres>, <parámetros>)\n",
    "```\n",
    "\n",
    "**Ejemplos:**"
   ]
  },
  {
   "cell_type": "code",
   "execution_count": null,
   "metadata": {},
   "outputs": [],
   "source": [
    "patron = 'azucar'\n",
    "texto = \"Azucar azu azucarado zucarita, asucar azurca azucar\""
   ]
  },
  {
   "cell_type": "code",
   "execution_count": null,
   "metadata": {},
   "outputs": [],
   "source": [
    "re.finditer(patron, texto)"
   ]
  },
  {
   "cell_type": "code",
   "execution_count": null,
   "metadata": {
    "scrolled": true
   },
   "outputs": [],
   "source": [
    "for elemento in busca.finditer(texto):\n",
    "    print(elemento)"
   ]
  },
  {
   "cell_type": "markdown",
   "metadata": {},
   "source": [
    "### La función _re.split()_.\n",
    "Busca todas las coincidencias de un patrón desde el principio de  la cadena de caracteres y separa los elementos utilizando al patrón como separador.\n",
    "Regresa una lista de cadenas de caracteres con los textos separados. En caso de no encontrar coincidencias, regresa un objeto de tipo _list_ con el texto original. \n",
    "\n",
    "**Sintaxis:**\n",
    "\n",
    "```\n",
    "re.split(<patrón>, <cadena de caracteres>, <parámetros>)\n",
    "```\n",
    "\n",
    "**Ejemplos:**"
   ]
  },
  {
   "cell_type": "code",
   "execution_count": null,
   "metadata": {},
   "outputs": [],
   "source": [
    "patron = ('azu')\n",
    "texto = \"Azucar azu azucarado zucarita, asucar azurca azucar\""
   ]
  },
  {
   "cell_type": "code",
   "execution_count": null,
   "metadata": {},
   "outputs": [],
   "source": [
    "re.split(patron, texto)"
   ]
  },
  {
   "cell_type": "code",
   "execution_count": null,
   "metadata": {},
   "outputs": [],
   "source": [
    "patron = ('sal')\n",
    "texto = \"Azucar azu azucarado zucarita, asucar azurca azucar\""
   ]
  },
  {
   "cell_type": "code",
   "execution_count": null,
   "metadata": {},
   "outputs": [],
   "source": [
    "re.split(patron, texto)"
   ]
  },
  {
   "cell_type": "markdown",
   "metadata": {},
   "source": [
    "### La función _re.sub()_.\n",
    "\n",
    "Busca todas las coincidencias de un patrón desde el principio de la cadena de caracteres y dichas coincidencias serán sustituida con un nuevo texto. Regresa una cadena de caracteres con el texto modificado.\n",
    "\n",
    "**Sintaxis:**\n",
    "\n",
    "```\n",
    "re.sub(<patrón>, <texto a sustituir>, <texto>, <parámetros>)\n",
    "```\n",
    "\n",
    "**Ejemplos:**"
   ]
  },
  {
   "cell_type": "code",
   "execution_count": null,
   "metadata": {},
   "outputs": [],
   "source": [
    "patron = 'azucar'\n",
    "texto = \"Azucar azu azucarado zucarita, asucar azurca azucar\""
   ]
  },
  {
   "cell_type": "code",
   "execution_count": null,
   "metadata": {},
   "outputs": [],
   "source": [
    "re.sub(patron, 'dulce', texto)"
   ]
  },
  {
   "cell_type": "code",
   "execution_count": null,
   "metadata": {},
   "outputs": [],
   "source": [
    "patron = 'sal'"
   ]
  },
  {
   "cell_type": "code",
   "execution_count": null,
   "metadata": {
    "scrolled": false
   },
   "outputs": [],
   "source": [
    "re.sub(patron, 'dulce', texto)"
   ]
  },
  {
   "cell_type": "markdown",
   "metadata": {
    "collapsed": true
   },
   "source": [
    "### La función _re.subn()_.\n",
    "\n",
    "Busca todas las coincidencias de un patrón desde el principio de la cadena de caracteres y dichas coincidencias serán sustituida con un nuevo texto. Regresa un objeto de tipo _tuple_ que incluye la cadena de caracteres con el texto modificado y el número de coincidencias.\n",
    "\n",
    "**Sintaxis:**\n",
    "\n",
    "```\n",
    "re.subn(<patrón>, <texto a sustituir>, <texto>, <parámetros>)\n",
    "```\n",
    "\n",
    "**Ejemplos:**"
   ]
  },
  {
   "cell_type": "code",
   "execution_count": null,
   "metadata": {},
   "outputs": [],
   "source": [
    "patron = 'azucar'\n",
    "texto = \"Azucar azu azucarado zucarita, asucar azurca azucar\""
   ]
  },
  {
   "cell_type": "code",
   "execution_count": null,
   "metadata": {},
   "outputs": [],
   "source": [
    "re.subn(patron, 'dulce', texto)"
   ]
  },
  {
   "cell_type": "code",
   "execution_count": null,
   "metadata": {},
   "outputs": [],
   "source": [
    "patron = 'sal'"
   ]
  },
  {
   "cell_type": "code",
   "execution_count": null,
   "metadata": {
    "scrolled": false
   },
   "outputs": [],
   "source": [
    "re.subn(patron, 'dulce', texto)"
   ]
  },
  {
   "cell_type": "markdown",
   "metadata": {},
   "source": [
    "### La función _re.match()_.\n",
    "Evalúa si el patron ingresado coincide con el inicio de una cadena de caracteres. En caso de que se encuentre el patrón, regresará un objeto con la información de la coincidencia.\n",
    "\n",
    "**Sintaxis:**\n",
    "\n",
    "```\n",
    "re.match(<patrón>, <texto>, <parámetros>)\n",
    "```\n",
    "**Ejemplos:**"
   ]
  },
  {
   "cell_type": "code",
   "execution_count": null,
   "metadata": {},
   "outputs": [],
   "source": [
    "patron = 'azucar'\n",
    "texto = \"Azucar azu azucarado zucarita, asucar azurca azucar\""
   ]
  },
  {
   "cell_type": "code",
   "execution_count": null,
   "metadata": {},
   "outputs": [],
   "source": [
    "print(re.match(texto, patron))"
   ]
  },
  {
   "cell_type": "code",
   "execution_count": null,
   "metadata": {},
   "outputs": [],
   "source": [
    "re.match(patron, texto, re.I)"
   ]
  },
  {
   "cell_type": "markdown",
   "metadata": {},
   "source": [
    "### La función _re.compile()_.\n",
    "Crea un objeto que incluye los siguientes métodos, los cuales se comportan de forma idéntica a las funciones del módulo _re_ utilizando el patron que se ingresa como parámetro:\n",
    "* _search()_.\n",
    "* _findall()_.\n",
    "* _finditer()_.\n",
    "* _split()_.\n",
    "* _sub()_.\n",
    "* _subn()_.\n",
    "* _match()_.\n",
    "\n",
    "En cada módulo se ingresa un texto como parámetro para que el patrón sea aplicado en éste.\n",
    "\n",
    "**Sintaxis:**\n",
    "```\n",
    "re.compile(<patrón>, <parámetros>)\n",
    "```\n",
    "\n",
    "**Ejemplos:**"
   ]
  },
  {
   "cell_type": "code",
   "execution_count": null,
   "metadata": {},
   "outputs": [],
   "source": [
    "texto = \"Azucar azu azucarado zucarita, asucar azurca azucar\""
   ]
  },
  {
   "cell_type": "code",
   "execution_count": null,
   "metadata": {},
   "outputs": [],
   "source": [
    "re.compile('azucar')"
   ]
  },
  {
   "cell_type": "code",
   "execution_count": null,
   "metadata": {
    "scrolled": false
   },
   "outputs": [],
   "source": [
    "busca = re.compile('azucar')"
   ]
  },
  {
   "cell_type": "code",
   "execution_count": null,
   "metadata": {},
   "outputs": [],
   "source": [
    "busca.match(texto)"
   ]
  },
  {
   "cell_type": "code",
   "execution_count": null,
   "metadata": {},
   "outputs": [],
   "source": [
    "busca = re.compile('azucar', re.IGNORECASE)"
   ]
  },
  {
   "cell_type": "code",
   "execution_count": null,
   "metadata": {},
   "outputs": [],
   "source": [
    "busca.match(texto)"
   ]
  },
  {
   "cell_type": "code",
   "execution_count": null,
   "metadata": {},
   "outputs": [],
   "source": [
    "busca.search(texto)"
   ]
  },
  {
   "cell_type": "code",
   "execution_count": null,
   "metadata": {},
   "outputs": [],
   "source": [
    "busca.subn(\"dulce\", texto)"
   ]
  },
  {
   "cell_type": "markdown",
   "metadata": {},
   "source": [
    "## Algunos patrones con expresiones regulares.\n",
    "Es posible construir patrones que no necesariamente corresponden a una cadena de caracteres única mediante las expresiones regulares."
   ]
  },
  {
   "cell_type": "markdown",
   "metadata": {},
   "source": [
    "### El metacaracter \".\".\n",
    "Indica que debe de haber un caracter en lugar del punto."
   ]
  },
  {
   "cell_type": "code",
   "execution_count": null,
   "metadata": {},
   "outputs": [],
   "source": [
    "texto = \"Carro carcar carrreta caar craacar Carranza\"\n",
    "patron = \"c.ar\"\n",
    "re.findall(patron, texto, re.I)"
   ]
  },
  {
   "cell_type": "code",
   "execution_count": null,
   "metadata": {},
   "outputs": [],
   "source": [
    "patron = \"ca..r\"\n",
    "re.findall(patron, texto, re.I)"
   ]
  },
  {
   "cell_type": "code",
   "execution_count": null,
   "metadata": {},
   "outputs": [],
   "source": [
    "patron = \"..ar\"\n",
    "re.findall(patron, texto, re.I)"
   ]
  },
  {
   "cell_type": "markdown",
   "metadata": {},
   "source": [
    "### El metacaracter \"^\".\n",
    "Indica que el principio de la cadena de caracteres debe de coincidir con la expresión."
   ]
  },
  {
   "cell_type": "code",
   "execution_count": null,
   "metadata": {},
   "outputs": [],
   "source": [
    "texto = \"Carro carcar carrreta caar craacar Carranza\"\n",
    "patron = \"^car\"\n",
    "re.findall(patron, texto, re.I)"
   ]
  },
  {
   "cell_type": "code",
   "execution_count": null,
   "metadata": {},
   "outputs": [],
   "source": [
    "texto = \"Cuenta cuentos cuenta cuentas cuantas cuentas cuenta\"\n",
    "patron = \"^.ue\"\n",
    "re.findall(patron, texto, re.I)"
   ]
  },
  {
   "cell_type": "markdown",
   "metadata": {},
   "source": [
    "### El metacaracter \"$\".\n",
    "Indica que el final de la cadena de caracteres debe de coincidir con la expresión."
   ]
  },
  {
   "cell_type": "code",
   "execution_count": null,
   "metadata": {},
   "outputs": [],
   "source": [
    "texto = \"Carro carcar carrreta caar craacar Carranza\"\n",
    "patron = \"rranza$\"\n",
    "re.findall(patron, texto, re.I)"
   ]
  },
  {
   "cell_type": "markdown",
   "metadata": {},
   "source": [
    "# El metacaracter \"*\".\n",
    "Indica que puede haber 0 o más caracteres en la posición indicada."
   ]
  },
  {
   "cell_type": "code",
   "execution_count": null,
   "metadata": {},
   "outputs": [],
   "source": [
    "texto = \"Carro carcar carrreta caar craacar Carranza\"\n",
    "patron = \"ca*r\"\n",
    "re.findall(patron, texto, re.I)"
   ]
  },
  {
   "cell_type": "code",
   "execution_count": null,
   "metadata": {},
   "outputs": [],
   "source": [
    "texto = \"Carro carcar carrreta caar craacar Carranza\"\n",
    "patron = \"ca*\"\n",
    "re.findall(patron, texto, re.I)"
   ]
  },
  {
   "cell_type": "markdown",
   "metadata": {},
   "source": [
    "## El metacaracter \"+\".\n",
    "Indica que puede haber 1 o más caracteres en la posición indicada."
   ]
  },
  {
   "cell_type": "code",
   "execution_count": 5,
   "metadata": {
    "scrolled": true
   },
   "outputs": [
    {
     "data": {
      "text/plain": [
       "['Ca', 'ca', 'ca', 'ca', 'caa', 'ca', 'Ca', 'caaa']"
      ]
     },
     "execution_count": 5,
     "metadata": {},
     "output_type": "execute_result"
    }
   ],
   "source": [
    "texto = \"Carro carcar carrreta caar craacar Carranza caaar\"\n",
    "patron = \"ca+\"\n",
    "re.findall(patron, texto, re.I)"
   ]
  },
  {
   "cell_type": "markdown",
   "metadata": {},
   "source": [
    "## El metacarcter \"*?*\".\n",
    "\n",
    "Indica que pueden haber cero o una coincidencia con el caracter de la izquierda."
   ]
  },
  {
   "cell_type": "code",
   "execution_count": 4,
   "metadata": {},
   "outputs": [
    {
     "data": {
      "text/plain": [
       "['Car', 'car', 'car', 'car', 'cr', 'car', 'Car']"
      ]
     },
     "execution_count": 4,
     "metadata": {},
     "output_type": "execute_result"
    }
   ],
   "source": [
    "texto = \"Carro carcar carrreta caar craacar Carranza, caaar\"\n",
    "patron = \"ca?r\"\n",
    "re.findall(patron, texto, re.I)"
   ]
  },
  {
   "cell_type": "markdown",
   "metadata": {},
   "source": [
    "## El uso de corchetes \"*[_..._]*\"\n",
    "\\\n",
    "Indica un conjunto de caracteres."
   ]
  },
  {
   "cell_type": "code",
   "execution_count": null,
   "metadata": {
    "scrolled": true
   },
   "outputs": [],
   "source": [
    "texto = \"Azucar azu azecarado zucarita, asucar azurca azicar\"\n",
    "patron = \"az[aeiou]car\"\n",
    "re.findall(patron, texto, re.I)"
   ]
  },
  {
   "cell_type": "markdown",
   "metadata": {},
   "source": [
    "## El uso de llaves \"*{m_, _n}*\"\n",
    "\n",
    "indica un rango de coincidencias del caracter."
   ]
  },
  {
   "cell_type": "code",
   "execution_count": null,
   "metadata": {},
   "outputs": [],
   "source": [
    "texto = \"1211111111 11111 1111 11111 11 11 13\"\n",
    "patron = \"1{3,4}\"\n",
    "re.findall(patron, texto, re.I)"
   ]
  },
  {
   "cell_type": "markdown",
   "metadata": {},
   "source": [
    "## Siguiente pasos.\n",
    "\n",
    "Python ofrece un tutorial de expresiones regulares en https://docs.python.org/3/howto/regex.html"
   ]
  },
  {
   "cell_type": "markdown",
   "metadata": {},
   "source": [
    "<p style=\"text-align: center\"><a rel=\"license\" href=\"http://creativecommons.org/licenses/by/4.0/\"><img alt=\"Licencia Creative Commons\" style=\"border-width:0\" src=\"https://i.creativecommons.org/l/by/4.0/80x15.png\" /></a><br />Esta obra está bajo una <a rel=\"license\" href=\"http://creativecommons.org/licenses/by/4.0/\">Licencia Creative Commons Atribución 4.0 Internacional</a>.</p>\n",
    "<p style=\"text-align: center\">&copy; José Luis Chiquete Valdivieso. 2018.</p>"
   ]
  }
 ],
 "metadata": {
  "kernelspec": {
   "display_name": "Python 3",
   "language": "python",
   "name": "python3"
  },
  "language_info": {
   "codemirror_mode": {
    "name": "ipython",
    "version": 3
   },
   "file_extension": ".py",
   "mimetype": "text/x-python",
   "name": "python",
   "nbconvert_exporter": "python",
   "pygments_lexer": "ipython3",
   "version": "3.6.3"
  }
 },
 "nbformat": 4,
 "nbformat_minor": 2
}
